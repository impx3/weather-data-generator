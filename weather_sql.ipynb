{
 "cells": [
  {
   "cell_type": "code",
   "execution_count": null,
   "id": "7e84322e-0e5f-4774-ac5c-58a361b8fb68",
   "metadata": {},
   "outputs": [
    {
     "name": "stdout",
     "output_type": "stream",
     "text": [
      "SQL script generated successfully: weatherdata_insert.sql\n"
     ]
    }
   ],
   "source": [
    "import csv\n",
    "\n",
    "database_name = \"simulated_weather_data\"\n",
    "table_name = \"weatherdata\"  # Replace with your actual table name\n",
    "csv_file_path = \"simulated_weather_data.csv\"  # Replace with your CSV file path\n",
    "sql_file_path = \"weatherdata_insert.sql\"  # Replace with your desired SQL file path\n",
    "\n",
    "try:\n",
    "    with open(csv_file_path, 'r', newline='', encoding='utf-8') as csvfile, \\\n",
    "         open(sql_file_path, 'w', encoding='utf-8') as sqlfile:\n",
    "\n",
    "        reader = csv.reader(csvfile)\n",
    "        next(reader)  # Skip the header row if it exists\n",
    "\n",
    "        sqlfile.write(f\"USE [{database_name}];\\nGO\\nINSERT INTO [{table_name}] VALUES\\n\")\n",
    "\n",
    "        first_row = True\n",
    "        for row in reader:\n",
    "            values = []\n",
    "            for value in row:\n",
    "                if value == \"\":\n",
    "                    values.append(\"NULL\")\n",
    "                else:\n",
    "                    try:\n",
    "                        # Try to convert to int or float\n",
    "                        num = float(value)\n",
    "                        if num.is_integer():\n",
    "                            values.append(str(int(num)))\n",
    "                        else:\n",
    "                            values.append(str(num))\n",
    "                    except ValueError:\n",
    "                        # If not a number, treat as a string\n",
    "                        values.append(f\"'{value.replace('\\'', '\\'\\'')}'\") #escape single quotes.\n",
    "            if first_row:\n",
    "                sqlfile.write(f\"({', '.join(values)})\")\n",
    "                first_row = False\n",
    "            else:\n",
    "                sqlfile.write(f\",\\n({', '.join(values)})\")\n",
    "\n",
    "        sqlfile.write(\";\")\n",
    "\n",
    "    print(f\"SQL script generated successfully: {sql_file_path}\")\n",
    "\n",
    "except FileNotFoundError:\n",
    "    print(f\"Error: CSV file not found at {csv_file_path}\")\n",
    "except Exception as e:\n",
    "    print(f\"An error occurred: {e}\")"
   ]
  },
  {
   "cell_type": "code",
   "execution_count": null,
   "id": "fa0e629d-1d59-4f99-a7f2-86d516a898d7",
   "metadata": {},
   "outputs": [],
   "source": []
  }
 ],
 "metadata": {
  "kernelspec": {
   "display_name": "Python 3 (ipykernel)",
   "language": "python",
   "name": "python3"
  },
  "language_info": {
   "codemirror_mode": {
    "name": "ipython",
    "version": 3
   },
   "file_extension": ".py",
   "mimetype": "text/x-python",
   "name": "python",
   "nbconvert_exporter": "python",
   "pygments_lexer": "ipython3",
   "version": "3.12.4"
  }
 },
 "nbformat": 4,
 "nbformat_minor": 5
}
